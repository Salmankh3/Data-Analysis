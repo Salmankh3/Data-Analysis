{
 "cells": [
  {
   "cell_type": "markdown",
   "metadata": {},
   "source": [
    "# ANALYSIS OF MY DATA ANALYTICS DASHBOARD POSTS ON LINKEDIN"
   ]
  },
  {
   "cell_type": "markdown",
   "metadata": {},
   "source": [
    "<b>Date: 01 / August / 2021"
   ]
  },
  {
   "cell_type": "markdown",
   "metadata": {},
   "source": [
    "<b>Introduction:</b>\n",
    "In this interesting piece of work, I am gonna analyze the statistics, reactions, and views of my posts related to data analytics dashboards on LinkedIn. We'll make a DataFrame and then visualize the data according to different aspects of our analysis. In the end, a proper dashboard shall also be attached with this project file on my official GitHub account. "
   ]
  },
  {
   "cell_type": "markdown",
   "metadata": {},
   "source": [
    "------"
   ]
  },
  {
   "cell_type": "code",
   "execution_count": 1,
   "metadata": {},
   "outputs": [],
   "source": [
    "import pandas as pd\n",
    "import numpy as np\n",
    "import matplotlib.pyplot as plt\n",
    "import seaborn as sns"
   ]
  },
  {
   "cell_type": "code",
   "execution_count": 2,
   "metadata": {},
   "outputs": [],
   "source": [
    "raw_data = {\"Project Title\":[\"Bio Data Analysis\",\"Stock Price (Investing) Analysis\",\"Movie Recommendation\",\"House and Customers\",\"Telecom Users\",\"Discount Mart Sales\"],\n",
    "            \"Tool Used\":[\"MS-Excel\",\"MS-Excel\",\"MS-Excel\",\"Python\",\"Python\",\"Tableau\"],\n",
    "            \"Total Views\":[993,221,654,466,526,439],\n",
    "            \"Likes\":[14,7,11,17,11,12],\n",
    "            \"Celebrates\":[4,1,4,2,0,6],\n",
    "            \"Loves\":[0,2,4,3,3,1],\n",
    "            \"Supports\":[0,0,0,0,0,0],\n",
    "            \"Insightfuls\":[3,0,0,0,2,0],\n",
    "            \"Curious\":[0,0,0,0,0,0]\n",
    "}"
   ]
  },
  {
   "cell_type": "code",
   "execution_count": 3,
   "metadata": {},
   "outputs": [
    {
     "data": {
      "text/html": [
       "<div>\n",
       "<style scoped>\n",
       "    .dataframe tbody tr th:only-of-type {\n",
       "        vertical-align: middle;\n",
       "    }\n",
       "\n",
       "    .dataframe tbody tr th {\n",
       "        vertical-align: top;\n",
       "    }\n",
       "\n",
       "    .dataframe thead th {\n",
       "        text-align: right;\n",
       "    }\n",
       "</style>\n",
       "<table border=\"1\" class=\"dataframe\">\n",
       "  <thead>\n",
       "    <tr style=\"text-align: right;\">\n",
       "      <th></th>\n",
       "      <th>Project Title</th>\n",
       "      <th>Tool Used</th>\n",
       "      <th>Total Views</th>\n",
       "      <th>Likes</th>\n",
       "      <th>Celebrates</th>\n",
       "      <th>Loves</th>\n",
       "      <th>Supports</th>\n",
       "      <th>Insightfuls</th>\n",
       "      <th>Curious</th>\n",
       "    </tr>\n",
       "  </thead>\n",
       "  <tbody>\n",
       "    <tr>\n",
       "      <th>0</th>\n",
       "      <td>Bio Data Analysis</td>\n",
       "      <td>MS-Excel</td>\n",
       "      <td>993</td>\n",
       "      <td>14</td>\n",
       "      <td>4</td>\n",
       "      <td>0</td>\n",
       "      <td>0</td>\n",
       "      <td>3</td>\n",
       "      <td>0</td>\n",
       "    </tr>\n",
       "    <tr>\n",
       "      <th>1</th>\n",
       "      <td>Stock Price (Investing) Analysis</td>\n",
       "      <td>MS-Excel</td>\n",
       "      <td>221</td>\n",
       "      <td>7</td>\n",
       "      <td>1</td>\n",
       "      <td>2</td>\n",
       "      <td>0</td>\n",
       "      <td>0</td>\n",
       "      <td>0</td>\n",
       "    </tr>\n",
       "    <tr>\n",
       "      <th>2</th>\n",
       "      <td>Movie Recommendation</td>\n",
       "      <td>MS-Excel</td>\n",
       "      <td>654</td>\n",
       "      <td>11</td>\n",
       "      <td>4</td>\n",
       "      <td>4</td>\n",
       "      <td>0</td>\n",
       "      <td>0</td>\n",
       "      <td>0</td>\n",
       "    </tr>\n",
       "    <tr>\n",
       "      <th>3</th>\n",
       "      <td>House and Customers</td>\n",
       "      <td>Python</td>\n",
       "      <td>466</td>\n",
       "      <td>17</td>\n",
       "      <td>2</td>\n",
       "      <td>3</td>\n",
       "      <td>0</td>\n",
       "      <td>0</td>\n",
       "      <td>0</td>\n",
       "    </tr>\n",
       "    <tr>\n",
       "      <th>4</th>\n",
       "      <td>Telecom Users</td>\n",
       "      <td>Python</td>\n",
       "      <td>526</td>\n",
       "      <td>11</td>\n",
       "      <td>0</td>\n",
       "      <td>3</td>\n",
       "      <td>0</td>\n",
       "      <td>2</td>\n",
       "      <td>0</td>\n",
       "    </tr>\n",
       "    <tr>\n",
       "      <th>5</th>\n",
       "      <td>Discount Mart Sales</td>\n",
       "      <td>Tableau</td>\n",
       "      <td>439</td>\n",
       "      <td>12</td>\n",
       "      <td>6</td>\n",
       "      <td>1</td>\n",
       "      <td>0</td>\n",
       "      <td>0</td>\n",
       "      <td>0</td>\n",
       "    </tr>\n",
       "  </tbody>\n",
       "</table>\n",
       "</div>"
      ],
      "text/plain": [
       "                      Project Title Tool Used  Total Views  Likes  Celebrates  \\\n",
       "0                 Bio Data Analysis  MS-Excel          993     14           4   \n",
       "1  Stock Price (Investing) Analysis  MS-Excel          221      7           1   \n",
       "2              Movie Recommendation  MS-Excel          654     11           4   \n",
       "3               House and Customers    Python          466     17           2   \n",
       "4                     Telecom Users    Python          526     11           0   \n",
       "5               Discount Mart Sales   Tableau          439     12           6   \n",
       "\n",
       "   Loves  Supports  Insightfuls  Curious  \n",
       "0      0         0            3        0  \n",
       "1      2         0            0        0  \n",
       "2      4         0            0        0  \n",
       "3      3         0            0        0  \n",
       "4      3         0            2        0  \n",
       "5      1         0            0        0  "
      ]
     },
     "execution_count": 3,
     "metadata": {},
     "output_type": "execute_result"
    }
   ],
   "source": [
    "df = pd.DataFrame(data = raw_data)\n",
    "df"
   ]
  },
  {
   "cell_type": "code",
   "execution_count": 4,
   "metadata": {},
   "outputs": [
    {
     "data": {
      "text/html": [
       "<div>\n",
       "<style scoped>\n",
       "    .dataframe tbody tr th:only-of-type {\n",
       "        vertical-align: middle;\n",
       "    }\n",
       "\n",
       "    .dataframe tbody tr th {\n",
       "        vertical-align: top;\n",
       "    }\n",
       "\n",
       "    .dataframe thead th {\n",
       "        text-align: right;\n",
       "    }\n",
       "</style>\n",
       "<table border=\"1\" class=\"dataframe\">\n",
       "  <thead>\n",
       "    <tr style=\"text-align: right;\">\n",
       "      <th></th>\n",
       "      <th>Project Title</th>\n",
       "      <th>Tool Used</th>\n",
       "      <th>Total Views</th>\n",
       "      <th>Likes</th>\n",
       "      <th>Celebrates</th>\n",
       "      <th>Loves</th>\n",
       "      <th>Supports</th>\n",
       "      <th>Insightfuls</th>\n",
       "      <th>Curious</th>\n",
       "      <th>Total Reactions</th>\n",
       "    </tr>\n",
       "  </thead>\n",
       "  <tbody>\n",
       "    <tr>\n",
       "      <th>0</th>\n",
       "      <td>Bio Data Analysis</td>\n",
       "      <td>MS-Excel</td>\n",
       "      <td>993</td>\n",
       "      <td>14</td>\n",
       "      <td>4</td>\n",
       "      <td>0</td>\n",
       "      <td>0</td>\n",
       "      <td>3</td>\n",
       "      <td>0</td>\n",
       "      <td>21</td>\n",
       "    </tr>\n",
       "    <tr>\n",
       "      <th>1</th>\n",
       "      <td>Stock Price (Investing) Analysis</td>\n",
       "      <td>MS-Excel</td>\n",
       "      <td>221</td>\n",
       "      <td>7</td>\n",
       "      <td>1</td>\n",
       "      <td>2</td>\n",
       "      <td>0</td>\n",
       "      <td>0</td>\n",
       "      <td>0</td>\n",
       "      <td>10</td>\n",
       "    </tr>\n",
       "    <tr>\n",
       "      <th>2</th>\n",
       "      <td>Movie Recommendation</td>\n",
       "      <td>MS-Excel</td>\n",
       "      <td>654</td>\n",
       "      <td>11</td>\n",
       "      <td>4</td>\n",
       "      <td>4</td>\n",
       "      <td>0</td>\n",
       "      <td>0</td>\n",
       "      <td>0</td>\n",
       "      <td>19</td>\n",
       "    </tr>\n",
       "    <tr>\n",
       "      <th>3</th>\n",
       "      <td>House and Customers</td>\n",
       "      <td>Python</td>\n",
       "      <td>466</td>\n",
       "      <td>17</td>\n",
       "      <td>2</td>\n",
       "      <td>3</td>\n",
       "      <td>0</td>\n",
       "      <td>0</td>\n",
       "      <td>0</td>\n",
       "      <td>22</td>\n",
       "    </tr>\n",
       "    <tr>\n",
       "      <th>4</th>\n",
       "      <td>Telecom Users</td>\n",
       "      <td>Python</td>\n",
       "      <td>526</td>\n",
       "      <td>11</td>\n",
       "      <td>0</td>\n",
       "      <td>3</td>\n",
       "      <td>0</td>\n",
       "      <td>2</td>\n",
       "      <td>0</td>\n",
       "      <td>16</td>\n",
       "    </tr>\n",
       "    <tr>\n",
       "      <th>5</th>\n",
       "      <td>Discount Mart Sales</td>\n",
       "      <td>Tableau</td>\n",
       "      <td>439</td>\n",
       "      <td>12</td>\n",
       "      <td>6</td>\n",
       "      <td>1</td>\n",
       "      <td>0</td>\n",
       "      <td>0</td>\n",
       "      <td>0</td>\n",
       "      <td>19</td>\n",
       "    </tr>\n",
       "  </tbody>\n",
       "</table>\n",
       "</div>"
      ],
      "text/plain": [
       "                      Project Title Tool Used  Total Views  Likes  Celebrates  \\\n",
       "0                 Bio Data Analysis  MS-Excel          993     14           4   \n",
       "1  Stock Price (Investing) Analysis  MS-Excel          221      7           1   \n",
       "2              Movie Recommendation  MS-Excel          654     11           4   \n",
       "3               House and Customers    Python          466     17           2   \n",
       "4                     Telecom Users    Python          526     11           0   \n",
       "5               Discount Mart Sales   Tableau          439     12           6   \n",
       "\n",
       "   Loves  Supports  Insightfuls  Curious  Total Reactions  \n",
       "0      0         0            3        0               21  \n",
       "1      2         0            0        0               10  \n",
       "2      4         0            0        0               19  \n",
       "3      3         0            0        0               22  \n",
       "4      3         0            2        0               16  \n",
       "5      1         0            0        0               19  "
      ]
     },
     "execution_count": 4,
     "metadata": {},
     "output_type": "execute_result"
    }
   ],
   "source": [
    "df[\"Total Reactions\"] = df[\"Likes\"] + df[\"Celebrates\"] + df[\"Loves\"] + df[\"Supports\"] + df[\"Insightfuls\"] + df[\"Curious\"]\n",
    "df"
   ]
  },
  {
   "cell_type": "code",
   "execution_count": 14,
   "metadata": {},
   "outputs": [
    {
     "data": {
      "image/png": "[encoded data removed]",
      "text/plain": [
       "<Figure size 720x360 with 1 Axes>"
      ]
     },
     "metadata": {
      "needs_background": "light"
     },
     "output_type": "display_data"
    }
   ],
   "source": [
    "# Views Per Project\n",
    "\n",
    "plt.figure(figsize=(10,5))\n",
    "sns.barplot(\"Total Views\",\"Project Title\", data=df, orient=\"h\",color=\"darkblue\")\n",
    "plt.xticks(np.arange(0,1001,100))\n",
    "plt.title(\"VIEWS PER PROJECT\")\n",
    "plt.show()"
   ]
  },
  {
   "cell_type": "code",
   "execution_count": 29,
   "metadata": {},
   "outputs": [
    {
     "data": {
      "image/png": "[encoded data removed]",
      "text/plain": [
       "<Figure size 432x432 with 1 Axes>"
      ]
     },
     "metadata": {},
     "output_type": "display_data"
    }
   ],
   "source": [
    "# Tool Used Ratio\n",
    "\n",
    "plt.figure(figsize=(6,6))\n",
    "plt.pie(df[\"Tool Used\"].value_counts(), labels=df[\"Tool Used\"].value_counts().index, autopct=\"%1.1f%%\", colors=[\"red\",\"limegreen\",\"orange\"])\n",
    "plt.title(\"TOOL USED RATIO\")\n",
    "plt.show()"
   ]
  },
  {
   "cell_type": "code",
   "execution_count": 31,
   "metadata": {},
   "outputs": [
    {
     "data": {
      "image/png": "[encoded data removed]",
      "text/plain": [
       "<Figure size 720x360 with 1 Axes>"
      ]
     },
     "metadata": {
      "needs_background": "light"
     },
     "output_type": "display_data"
    }
   ],
   "source": [
    "# Reactions Per Project\n",
    "\n",
    "plt.figure(figsize=(10,5))\n",
    "sns.barplot(\"Total Reactions\",\"Project Title\", data=df, orient=\"h\",color=\"green\")\n",
    "plt.xticks(np.arange(0,26,5))\n",
    "plt.title(\"REACTIONS PER PROJECT\")\n",
    "plt.show()"
   ]
  },
  {
   "cell_type": "code",
   "execution_count": 34,
   "metadata": {},
   "outputs": [],
   "source": [
    "reacts = {\"Type\":[\"Likes\",\"Celebrates\",\"Loves\",\"Supports\",\"Insighfuls\",\"Curious\"],\n",
    "         \"Counts\":[df[\"Likes\"].sum(),df[\"Celebrates\"].sum(),df[\"Loves\"].sum(),df[\"Supports\"].sum(),df[\"Insightfuls\"].sum(),df[\"Curious\"].sum()]\n",
    "         }"
   ]
  },
  {
   "cell_type": "code",
   "execution_count": 35,
   "metadata": {},
   "outputs": [
    {
     "data": {
      "text/html": [
       "<div>\n",
       "<style scoped>\n",
       "    .dataframe tbody tr th:only-of-type {\n",
       "        vertical-align: middle;\n",
       "    }\n",
       "\n",
       "    .dataframe tbody tr th {\n",
       "        vertical-align: top;\n",
       "    }\n",
       "\n",
       "    .dataframe thead th {\n",
       "        text-align: right;\n",
       "    }\n",
       "</style>\n",
       "<table border=\"1\" class=\"dataframe\">\n",
       "  <thead>\n",
       "    <tr style=\"text-align: right;\">\n",
       "      <th></th>\n",
       "      <th>Type</th>\n",
       "      <th>Counts</th>\n",
       "    </tr>\n",
       "  </thead>\n",
       "  <tbody>\n",
       "    <tr>\n",
       "      <th>0</th>\n",
       "      <td>Likes</td>\n",
       "      <td>72</td>\n",
       "    </tr>\n",
       "    <tr>\n",
       "      <th>1</th>\n",
       "      <td>Celebrates</td>\n",
       "      <td>17</td>\n",
       "    </tr>\n",
       "    <tr>\n",
       "      <th>2</th>\n",
       "      <td>Loves</td>\n",
       "      <td>13</td>\n",
       "    </tr>\n",
       "    <tr>\n",
       "      <th>3</th>\n",
       "      <td>Supports</td>\n",
       "      <td>0</td>\n",
       "    </tr>\n",
       "    <tr>\n",
       "      <th>4</th>\n",
       "      <td>Insighfuls</td>\n",
       "      <td>5</td>\n",
       "    </tr>\n",
       "    <tr>\n",
       "      <th>5</th>\n",
       "      <td>Curious</td>\n",
       "      <td>0</td>\n",
       "    </tr>\n",
       "  </tbody>\n",
       "</table>\n",
       "</div>"
      ],
      "text/plain": [
       "         Type  Counts\n",
       "0       Likes      72\n",
       "1  Celebrates      17\n",
       "2       Loves      13\n",
       "3    Supports       0\n",
       "4  Insighfuls       5\n",
       "5     Curious       0"
      ]
     },
     "execution_count": 35,
     "metadata": {},
     "output_type": "execute_result"
    }
   ],
   "source": [
    "reacts_df = pd.DataFrame(data=reacts)\n",
    "reacts_df"
   ]
  },
  {
   "cell_type": "code",
   "execution_count": 48,
   "metadata": {},
   "outputs": [
    {
     "data": {
      "text/html": [
       "<div>\n",
       "<style scoped>\n",
       "    .dataframe tbody tr th:only-of-type {\n",
       "        vertical-align: middle;\n",
       "    }\n",
       "\n",
       "    .dataframe tbody tr th {\n",
       "        vertical-align: top;\n",
       "    }\n",
       "\n",
       "    .dataframe thead th {\n",
       "        text-align: right;\n",
       "    }\n",
       "</style>\n",
       "<table border=\"1\" class=\"dataframe\">\n",
       "  <thead>\n",
       "    <tr style=\"text-align: right;\">\n",
       "      <th></th>\n",
       "      <th>Type</th>\n",
       "      <th>Counts</th>\n",
       "    </tr>\n",
       "  </thead>\n",
       "  <tbody>\n",
       "    <tr>\n",
       "      <th>0</th>\n",
       "      <td>Likes</td>\n",
       "      <td>72.0</td>\n",
       "    </tr>\n",
       "    <tr>\n",
       "      <th>1</th>\n",
       "      <td>Celebrates</td>\n",
       "      <td>17.0</td>\n",
       "    </tr>\n",
       "    <tr>\n",
       "      <th>2</th>\n",
       "      <td>Loves</td>\n",
       "      <td>13.0</td>\n",
       "    </tr>\n",
       "    <tr>\n",
       "      <th>4</th>\n",
       "      <td>Insighfuls</td>\n",
       "      <td>5.0</td>\n",
       "    </tr>\n",
       "  </tbody>\n",
       "</table>\n",
       "</div>"
      ],
      "text/plain": [
       "         Type  Counts\n",
       "0       Likes    72.0\n",
       "1  Celebrates    17.0\n",
       "2       Loves    13.0\n",
       "4  Insighfuls     5.0"
      ]
     },
     "execution_count": 48,
     "metadata": {},
     "output_type": "execute_result"
    }
   ],
   "source": [
    "reacts_df.replace(0,np.nan, inplace=True)\n",
    "reacts_df.dropna(inplace=True)\n",
    "reacts_df"
   ]
  },
  {
   "cell_type": "code",
   "execution_count": 125,
   "metadata": {},
   "outputs": [
    {
     "data": {
      "image/png": "[encoded data removed]",
      "text/plain": [
       "<Figure size 432x432 with 1 Axes>"
      ]
     },
     "metadata": {},
     "output_type": "display_data"
    }
   ],
   "source": [
    "# Ratio Of Reactions\n",
    "\n",
    "plt.figure(figsize=(6,6))\n",
    "plt.pie(reacts_df[\"Counts\"], labels=reacts_df[\"Type\"],autopct=\"%1.1f%%\", colors=[\"deepskyblue\",\"limegreen\",\"red\",\"gold\"],startangle=150)\n",
    "plt.title(\"REACTIONS RATIO\")\n",
    "plt.show()"
   ]
  },
  {
   "cell_type": "code",
   "execution_count": 111,
   "metadata": {},
   "outputs": [],
   "source": [
    "new_reacts = df.iloc[:,3:9]\n",
    "new_reacts.set_index(df[\"Project Title\"], inplace=True)"
   ]
  },
  {
   "cell_type": "code",
   "execution_count": 114,
   "metadata": {},
   "outputs": [
    {
     "data": {
      "text/html": [
       "<div>\n",
       "<style scoped>\n",
       "    .dataframe tbody tr th:only-of-type {\n",
       "        vertical-align: middle;\n",
       "    }\n",
       "\n",
       "    .dataframe tbody tr th {\n",
       "        vertical-align: top;\n",
       "    }\n",
       "\n",
       "    .dataframe thead th {\n",
       "        text-align: right;\n",
       "    }\n",
       "</style>\n",
       "<table border=\"1\" class=\"dataframe\">\n",
       "  <thead>\n",
       "    <tr style=\"text-align: right;\">\n",
       "      <th></th>\n",
       "      <th>Likes</th>\n",
       "      <th>Celebrates</th>\n",
       "      <th>Loves</th>\n",
       "      <th>Supports</th>\n",
       "      <th>Insightfuls</th>\n",
       "      <th>Curious</th>\n",
       "    </tr>\n",
       "    <tr>\n",
       "      <th>Project Title</th>\n",
       "      <th></th>\n",
       "      <th></th>\n",
       "      <th></th>\n",
       "      <th></th>\n",
       "      <th></th>\n",
       "      <th></th>\n",
       "    </tr>\n",
       "  </thead>\n",
       "  <tbody>\n",
       "    <tr>\n",
       "      <th>Bio Data Analysis</th>\n",
       "      <td>14</td>\n",
       "      <td>4</td>\n",
       "      <td>0</td>\n",
       "      <td>0</td>\n",
       "      <td>3</td>\n",
       "      <td>0</td>\n",
       "    </tr>\n",
       "    <tr>\n",
       "      <th>Stock Price (Investing) Analysis</th>\n",
       "      <td>7</td>\n",
       "      <td>1</td>\n",
       "      <td>2</td>\n",
       "      <td>0</td>\n",
       "      <td>0</td>\n",
       "      <td>0</td>\n",
       "    </tr>\n",
       "    <tr>\n",
       "      <th>Movie Recommendation</th>\n",
       "      <td>11</td>\n",
       "      <td>4</td>\n",
       "      <td>4</td>\n",
       "      <td>0</td>\n",
       "      <td>0</td>\n",
       "      <td>0</td>\n",
       "    </tr>\n",
       "    <tr>\n",
       "      <th>House and Customers</th>\n",
       "      <td>17</td>\n",
       "      <td>2</td>\n",
       "      <td>3</td>\n",
       "      <td>0</td>\n",
       "      <td>0</td>\n",
       "      <td>0</td>\n",
       "    </tr>\n",
       "    <tr>\n",
       "      <th>Telecom Users</th>\n",
       "      <td>11</td>\n",
       "      <td>0</td>\n",
       "      <td>3</td>\n",
       "      <td>0</td>\n",
       "      <td>2</td>\n",
       "      <td>0</td>\n",
       "    </tr>\n",
       "    <tr>\n",
       "      <th>Discount Mart Sales</th>\n",
       "      <td>12</td>\n",
       "      <td>6</td>\n",
       "      <td>1</td>\n",
       "      <td>0</td>\n",
       "      <td>0</td>\n",
       "      <td>0</td>\n",
       "    </tr>\n",
       "  </tbody>\n",
       "</table>\n",
       "</div>"
      ],
      "text/plain": [
       "                                  Likes  Celebrates  Loves  Supports  \\\n",
       "Project Title                                                          \n",
       "Bio Data Analysis                    14           4      0         0   \n",
       "Stock Price (Investing) Analysis      7           1      2         0   \n",
       "Movie Recommendation                 11           4      4         0   \n",
       "House and Customers                  17           2      3         0   \n",
       "Telecom Users                        11           0      3         0   \n",
       "Discount Mart Sales                  12           6      1         0   \n",
       "\n",
       "                                  Insightfuls  Curious  \n",
       "Project Title                                           \n",
       "Bio Data Analysis                           3        0  \n",
       "Stock Price (Investing) Analysis            0        0  \n",
       "Movie Recommendation                        0        0  \n",
       "House and Customers                         0        0  \n",
       "Telecom Users                               2        0  \n",
       "Discount Mart Sales                         0        0  "
      ]
     },
     "execution_count": 114,
     "metadata": {},
     "output_type": "execute_result"
    }
   ],
   "source": [
    "new_reacts"
   ]
  },
  {
   "cell_type": "code",
   "execution_count": 122,
   "metadata": {},
   "outputs": [
    {
     "data": {
      "image/png": "[encoded data removed]",
      "text/plain": [
       "<Figure size 1152x504 with 1 Axes>"
      ]
     },
     "metadata": {
      "needs_background": "light"
     },
     "output_type": "display_data"
    }
   ],
   "source": [
    "plt.figure(figsize=(16,7))\n",
    "for i in new_reacts.columns:\n",
    "    plt.plot(new_reacts[i])\n",
    "    \n",
    "plt.legend(new_reacts.columns)\n",
    "plt.yticks(np.arange(0,21,2))\n",
    "plt.title(\"REACTION COUNTS W.R.T POSTS\")\n",
    "plt.show()"
   ]
  },
  {
   "cell_type": "code",
   "execution_count": null,
   "metadata": {},
   "outputs": [],
   "source": []
  },
  {
   "cell_type": "code",
   "execution_count": null,
   "metadata": {},
   "outputs": [],
   "source": []
  }
 ],
 "metadata": {
  "kernelspec": {
   "display_name": "Python 3",
   "language": "python",
   "name": "python3"
  },
  "language_info": {
   "codemirror_mode": {
    "name": "ipython",
    "version": 3
   },
   "file_extension": ".py",
   "mimetype": "text/x-python",
   "name": "python",
   "nbconvert_exporter": "python",
   "pygments_lexer": "ipython3",
   "version": "3.7.0"
  }
 },
 "nbformat": 4,
 "nbformat_minor": 2
}
