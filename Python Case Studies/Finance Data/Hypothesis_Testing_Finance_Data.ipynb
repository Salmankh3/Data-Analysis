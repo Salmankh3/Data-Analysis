{
 "cells": [
  {
   "cell_type": "markdown",
   "id": "aa8dd9ff",
   "metadata": {},
   "source": [
    "# HYPOTHESIS TESTING ON FINANCE DATA (PERSONAL LOAN ATTRIBUTE)"
   ]
  },
  {
   "cell_type": "markdown",
   "id": "0a360c66",
   "metadata": {},
   "source": [
    "Using two-sampled t-test, we are about to test our hypothesis whether some of the relevant attributes effect a customer/person to take/avail loan "
   ]
  },
  {
   "cell_type": "code",
   "execution_count": 5,
   "id": "dc11705d",
   "metadata": {},
   "outputs": [],
   "source": [
    "import pandas as pd\n",
    "import numpy as np\n",
    "import scipy.stats as stats"
   ]
  },
  {
   "cell_type": "code",
   "execution_count": 2,
   "id": "0ec6a133",
   "metadata": {
    "scrolled": true
   },
   "outputs": [
    {
     "data": {
      "text/html": [
       "<div>\n",
       "<style scoped>\n",
       "    .dataframe tbody tr th:only-of-type {\n",
       "        vertical-align: middle;\n",
       "    }\n",
       "\n",
       "    .dataframe tbody tr th {\n",
       "        vertical-align: top;\n",
       "    }\n",
       "\n",
       "    .dataframe thead th {\n",
       "        text-align: right;\n",
       "    }\n",
       "</style>\n",
       "<table border=\"1\" class=\"dataframe\">\n",
       "  <thead>\n",
       "    <tr style=\"text-align: right;\">\n",
       "      <th></th>\n",
       "      <th>Unnamed: 0</th>\n",
       "      <th>Age</th>\n",
       "      <th>Experience</th>\n",
       "      <th>Income</th>\n",
       "      <th>Family</th>\n",
       "      <th>CCAvg</th>\n",
       "      <th>Education</th>\n",
       "      <th>Mortgage</th>\n",
       "      <th>Personal Loan</th>\n",
       "      <th>Securities Account</th>\n",
       "      <th>CD Account</th>\n",
       "      <th>Online</th>\n",
       "      <th>CreditCard</th>\n",
       "      <th>Account Holder Category</th>\n",
       "    </tr>\n",
       "  </thead>\n",
       "  <tbody>\n",
       "    <tr>\n",
       "      <th>0</th>\n",
       "      <td>0</td>\n",
       "      <td>25</td>\n",
       "      <td>1.0</td>\n",
       "      <td>49</td>\n",
       "      <td>4</td>\n",
       "      <td>1.6</td>\n",
       "      <td>Undergraduate</td>\n",
       "      <td>0</td>\n",
       "      <td>No</td>\n",
       "      <td>Yes</td>\n",
       "      <td>No</td>\n",
       "      <td>No</td>\n",
       "      <td>No</td>\n",
       "      <td>Holds Only Security Account</td>\n",
       "    </tr>\n",
       "    <tr>\n",
       "      <th>1</th>\n",
       "      <td>1</td>\n",
       "      <td>45</td>\n",
       "      <td>19.0</td>\n",
       "      <td>34</td>\n",
       "      <td>3</td>\n",
       "      <td>1.5</td>\n",
       "      <td>Undergraduate</td>\n",
       "      <td>0</td>\n",
       "      <td>No</td>\n",
       "      <td>Yes</td>\n",
       "      <td>No</td>\n",
       "      <td>No</td>\n",
       "      <td>No</td>\n",
       "      <td>Holds Only Security Account</td>\n",
       "    </tr>\n",
       "    <tr>\n",
       "      <th>2</th>\n",
       "      <td>2</td>\n",
       "      <td>39</td>\n",
       "      <td>15.0</td>\n",
       "      <td>11</td>\n",
       "      <td>1</td>\n",
       "      <td>1.0</td>\n",
       "      <td>Undergraduate</td>\n",
       "      <td>0</td>\n",
       "      <td>No</td>\n",
       "      <td>No</td>\n",
       "      <td>No</td>\n",
       "      <td>No</td>\n",
       "      <td>No</td>\n",
       "      <td>Does Not Hold Both Security &amp; Deposit Account</td>\n",
       "    </tr>\n",
       "    <tr>\n",
       "      <th>3</th>\n",
       "      <td>3</td>\n",
       "      <td>35</td>\n",
       "      <td>9.0</td>\n",
       "      <td>100</td>\n",
       "      <td>1</td>\n",
       "      <td>2.7</td>\n",
       "      <td>Graduate</td>\n",
       "      <td>0</td>\n",
       "      <td>No</td>\n",
       "      <td>No</td>\n",
       "      <td>No</td>\n",
       "      <td>No</td>\n",
       "      <td>No</td>\n",
       "      <td>Does Not Hold Both Security &amp; Deposit Account</td>\n",
       "    </tr>\n",
       "    <tr>\n",
       "      <th>4</th>\n",
       "      <td>4</td>\n",
       "      <td>35</td>\n",
       "      <td>8.0</td>\n",
       "      <td>45</td>\n",
       "      <td>4</td>\n",
       "      <td>1.0</td>\n",
       "      <td>Graduate</td>\n",
       "      <td>0</td>\n",
       "      <td>No</td>\n",
       "      <td>No</td>\n",
       "      <td>No</td>\n",
       "      <td>No</td>\n",
       "      <td>Yes</td>\n",
       "      <td>Does Not Hold Both Security &amp; Deposit Account</td>\n",
       "    </tr>\n",
       "    <tr>\n",
       "      <th>5</th>\n",
       "      <td>5</td>\n",
       "      <td>37</td>\n",
       "      <td>13.0</td>\n",
       "      <td>29</td>\n",
       "      <td>4</td>\n",
       "      <td>0.4</td>\n",
       "      <td>Graduate</td>\n",
       "      <td>155</td>\n",
       "      <td>No</td>\n",
       "      <td>No</td>\n",
       "      <td>No</td>\n",
       "      <td>Yes</td>\n",
       "      <td>No</td>\n",
       "      <td>Does Not Hold Both Security &amp; Deposit Account</td>\n",
       "    </tr>\n",
       "    <tr>\n",
       "      <th>6</th>\n",
       "      <td>6</td>\n",
       "      <td>53</td>\n",
       "      <td>27.0</td>\n",
       "      <td>72</td>\n",
       "      <td>2</td>\n",
       "      <td>1.5</td>\n",
       "      <td>Graduate</td>\n",
       "      <td>0</td>\n",
       "      <td>No</td>\n",
       "      <td>No</td>\n",
       "      <td>No</td>\n",
       "      <td>Yes</td>\n",
       "      <td>No</td>\n",
       "      <td>Does Not Hold Both Security &amp; Deposit Account</td>\n",
       "    </tr>\n",
       "    <tr>\n",
       "      <th>7</th>\n",
       "      <td>7</td>\n",
       "      <td>50</td>\n",
       "      <td>24.0</td>\n",
       "      <td>22</td>\n",
       "      <td>1</td>\n",
       "      <td>0.3</td>\n",
       "      <td>Professional</td>\n",
       "      <td>0</td>\n",
       "      <td>No</td>\n",
       "      <td>No</td>\n",
       "      <td>No</td>\n",
       "      <td>No</td>\n",
       "      <td>Yes</td>\n",
       "      <td>Does Not Hold Both Security &amp; Deposit Account</td>\n",
       "    </tr>\n",
       "    <tr>\n",
       "      <th>8</th>\n",
       "      <td>8</td>\n",
       "      <td>35</td>\n",
       "      <td>10.0</td>\n",
       "      <td>81</td>\n",
       "      <td>3</td>\n",
       "      <td>0.6</td>\n",
       "      <td>Graduate</td>\n",
       "      <td>104</td>\n",
       "      <td>No</td>\n",
       "      <td>No</td>\n",
       "      <td>No</td>\n",
       "      <td>Yes</td>\n",
       "      <td>No</td>\n",
       "      <td>Does Not Hold Both Security &amp; Deposit Account</td>\n",
       "    </tr>\n",
       "    <tr>\n",
       "      <th>9</th>\n",
       "      <td>9</td>\n",
       "      <td>34</td>\n",
       "      <td>9.0</td>\n",
       "      <td>180</td>\n",
       "      <td>1</td>\n",
       "      <td>8.9</td>\n",
       "      <td>Professional</td>\n",
       "      <td>0</td>\n",
       "      <td>Yes</td>\n",
       "      <td>No</td>\n",
       "      <td>No</td>\n",
       "      <td>No</td>\n",
       "      <td>No</td>\n",
       "      <td>Does Not Hold Both Security &amp; Deposit Account</td>\n",
       "    </tr>\n",
       "  </tbody>\n",
       "</table>\n",
       "</div>"
      ],
      "text/plain": [
       "   Unnamed: 0  Age  Experience  Income  Family  CCAvg      Education  \\\n",
       "0           0   25         1.0      49       4    1.6  Undergraduate   \n",
       "1           1   45        19.0      34       3    1.5  Undergraduate   \n",
       "2           2   39        15.0      11       1    1.0  Undergraduate   \n",
       "3           3   35         9.0     100       1    2.7       Graduate   \n",
       "4           4   35         8.0      45       4    1.0       Graduate   \n",
       "5           5   37        13.0      29       4    0.4       Graduate   \n",
       "6           6   53        27.0      72       2    1.5       Graduate   \n",
       "7           7   50        24.0      22       1    0.3   Professional   \n",
       "8           8   35        10.0      81       3    0.6       Graduate   \n",
       "9           9   34         9.0     180       1    8.9   Professional   \n",
       "\n",
       "   Mortgage Personal Loan Securities Account CD Account Online CreditCard  \\\n",
       "0         0            No                Yes         No     No         No   \n",
       "1         0            No                Yes         No     No         No   \n",
       "2         0            No                 No         No     No         No   \n",
       "3         0            No                 No         No     No         No   \n",
       "4         0            No                 No         No     No        Yes   \n",
       "5       155            No                 No         No    Yes         No   \n",
       "6         0            No                 No         No    Yes         No   \n",
       "7         0            No                 No         No     No        Yes   \n",
       "8       104            No                 No         No    Yes         No   \n",
       "9         0           Yes                 No         No     No         No   \n",
       "\n",
       "                         Account Holder Category  \n",
       "0                    Holds Only Security Account  \n",
       "1                    Holds Only Security Account  \n",
       "2  Does Not Hold Both Security & Deposit Account  \n",
       "3  Does Not Hold Both Security & Deposit Account  \n",
       "4  Does Not Hold Both Security & Deposit Account  \n",
       "5  Does Not Hold Both Security & Deposit Account  \n",
       "6  Does Not Hold Both Security & Deposit Account  \n",
       "7  Does Not Hold Both Security & Deposit Account  \n",
       "8  Does Not Hold Both Security & Deposit Account  \n",
       "9  Does Not Hold Both Security & Deposit Account  "
      ]
     },
     "execution_count": 2,
     "metadata": {},
     "output_type": "execute_result"
    }
   ],
   "source": [
    "data = pd.read_csv('Finance_Data_HypTest.csv')\n",
    "data.head(10)"
   ]
  },
  {
   "cell_type": "markdown",
   "id": "c4560c6c",
   "metadata": {},
   "source": [
    " "
   ]
  },
  {
   "cell_type": "markdown",
   "id": "ca981f0a",
   "metadata": {},
   "source": [
    "<b>Testing Impact Of Age Attribute On Availing Personal Loan"
   ]
  },
  {
   "cell_type": "code",
   "execution_count": 20,
   "id": "34e7164d",
   "metadata": {},
   "outputs": [],
   "source": [
    "Ho = 'Age attribute does not have impact on availing personal loan' # Null Hypothesis\n",
    "Ha = 'Age attribute has impact on availing personal loan' # Alternative Hypothesis"
   ]
  },
  {
   "cell_type": "code",
   "execution_count": 21,
   "id": "fb6f3454",
   "metadata": {},
   "outputs": [],
   "source": [
    "age_yes = np.array(data[data['Personal Loan']=='Yes']['Age'])\n",
    "age_no = np.array(data[data['Personal Loan']=='No']['Age'])\n",
    "alpha = 0.05 # confidence is 95%"
   ]
  },
  {
   "cell_type": "code",
   "execution_count": 22,
   "id": "befeafbd",
   "metadata": {},
   "outputs": [],
   "source": [
    "t, p_value = stats.ttest_ind(age_no,age_yes, axis=0)"
   ]
  },
  {
   "cell_type": "code",
   "execution_count": 23,
   "id": "6a8da834",
   "metadata": {},
   "outputs": [
    {
     "name": "stdout",
     "output_type": "stream",
     "text": [
      "Age attribute does not have impact on availing personal loan as the p_value is greater than alpha with a value of  0.585\n"
     ]
    }
   ],
   "source": [
    "if p_value < alpha:\n",
    "    print(Ha, 'as the p_value is less than alpha with a value of ',alpha)\n",
    "else:\n",
    "    print(Ho, 'as the p_value is greater than alpha with a value of ',round(p_value,3))"
   ]
  },
  {
   "cell_type": "markdown",
   "id": "4d92a6b5",
   "metadata": {},
   "source": [
    " "
   ]
  },
  {
   "cell_type": "markdown",
   "id": "8accbbf7",
   "metadata": {},
   "source": [
    "<b>Testing Impact Of Family Counts Attribute On Availing Personal Loan"
   ]
  },
  {
   "cell_type": "code",
   "execution_count": 24,
   "id": "7f8ac7fe",
   "metadata": {},
   "outputs": [],
   "source": [
    "Ho_family = 'Family attribute does not have impact on availing personal loan' # Null Hypothesis\n",
    "Ha_family = 'Family attribute has impact on availing personal loan' # Alternative Hypothesis"
   ]
  },
  {
   "cell_type": "code",
   "execution_count": 25,
   "id": "b57d49a9",
   "metadata": {},
   "outputs": [],
   "source": [
    "family_yes = np.array(data[data['Personal Loan']=='Yes']['Family'])\n",
    "family_no = np.array(data[data['Personal Loan']=='No']['Family'])\n",
    "alpha = 0.05 # confidence is 95%"
   ]
  },
  {
   "cell_type": "code",
   "execution_count": 26,
   "id": "cd45ea9f",
   "metadata": {},
   "outputs": [],
   "source": [
    "t1, p_value1 = stats.ttest_ind(family_no,family_yes, axis=0)"
   ]
  },
  {
   "cell_type": "code",
   "execution_count": 33,
   "id": "0adce506",
   "metadata": {},
   "outputs": [
    {
     "name": "stdout",
     "output_type": "stream",
     "text": [
      "Family attribute has impact on availing personal loan as the p_value is less than alpha with a value of  1.4099040685673807e-05\n"
     ]
    }
   ],
   "source": [
    "if p_value1 < alpha:\n",
    "    print(Ha_family, 'as the p_value is less than alpha with a value of ',p_value1)\n",
    "else:\n",
    "    print(Ho_family, 'as the p_value is greater than alpha with a value of ',p_value1)"
   ]
  },
  {
   "cell_type": "markdown",
   "id": "688a889a",
   "metadata": {},
   "source": [
    " "
   ]
  },
  {
   "cell_type": "markdown",
   "id": "afacec1c",
   "metadata": {},
   "source": [
    "<b>Testing Impact Of Income Attribute On Availing Personal Loan"
   ]
  },
  {
   "cell_type": "code",
   "execution_count": 29,
   "id": "a654fd9c",
   "metadata": {},
   "outputs": [],
   "source": [
    "Ho_income = 'Income attribute does not have impact on availing personal loan' # Null Hypothesis\n",
    "Ha_income = 'Income attribute has impact on availing personal loan' # Alternative Hypothesis"
   ]
  },
  {
   "cell_type": "code",
   "execution_count": 31,
   "id": "d1ffdfbf",
   "metadata": {},
   "outputs": [],
   "source": [
    "income_yes = np.array(data[data['Personal Loan']=='Yes']['Income'])\n",
    "income_no = np.array(data[data['Personal Loan']=='No']['Income'])\n",
    "alpha = 0.05 # confidence is 95%"
   ]
  },
  {
   "cell_type": "code",
   "execution_count": 32,
   "id": "561e0b93",
   "metadata": {},
   "outputs": [],
   "source": [
    "t2, p_value2 = stats.ttest_ind(income_no, income_yes, axis=0)"
   ]
  },
  {
   "cell_type": "code",
   "execution_count": 34,
   "id": "ce09729c",
   "metadata": {},
   "outputs": [
    {
     "name": "stdout",
     "output_type": "stream",
     "text": [
      "Income attribute has impact on availing personal loan as the p_value is less than alpha with a value of  0.0\n"
     ]
    }
   ],
   "source": [
    "if p_value2 < alpha:\n",
    "    print(Ha_income, 'as the p_value is less than alpha with a value of ',p_value2)\n",
    "else:\n",
    "    print(Ho_income, 'as the p_value is greater than alpha with a value of ',p_value2)"
   ]
  }
 ],
 "metadata": {
  "kernelspec": {
   "display_name": "Python 3",
   "language": "python",
   "name": "python3"
  },
  "language_info": {
   "codemirror_mode": {
    "name": "ipython",
    "version": 3
   },
   "file_extension": ".py",
   "mimetype": "text/x-python",
   "name": "python",
   "nbconvert_exporter": "python",
   "pygments_lexer": "ipython3",
   "version": "3.8.8"
  }
 },
 "nbformat": 4,
 "nbformat_minor": 5
}
